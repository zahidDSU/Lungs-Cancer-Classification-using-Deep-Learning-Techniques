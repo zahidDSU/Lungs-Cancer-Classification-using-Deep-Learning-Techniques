{
 "cells": [
  {
   "cell_type": "code",
   "execution_count": 3,
   "metadata": {
    "id": "fcKrHqRvmQQp"
   },
   "outputs": [],
   "source": [
    "import os, shutil\n",
    "\n",
    "original_dataset_dir = '/content/drive/MyDrive/Data Sets'\n",
    "base_dir = '/content/drive/MyDrive/Data Sets/Lungs_dataset/data'\n",
    "os.mkdir(base_dir)"
   ]
  },
  {
   "cell_type": "code",
   "execution_count": 4,
   "metadata": {
    "id": "kHiPXTROxQk4"
   },
   "outputs": [],
   "source": [
    "# Making Training and testing folders in data folder\n",
    "train_dir = os.path.join(base_dir, 'train')\n",
    "os.mkdir(train_dir)\n",
    "\n",
    "test_dir = os.path.join(base_dir, 'test')\n",
    "os.mkdir(test_dir)"
   ]
  },
  {
   "cell_type": "code",
   "execution_count": 1,
   "metadata": {},
   "outputs": [
    {
     "name": "stdout",
     "output_type": "stream",
     "text": [
      "Hello\n"
     ]
    }
   ],
   "source": [
    "print(\"Hello\")"
   ]
  },
  {
   "cell_type": "code",
   "execution_count": 5,
   "metadata": {
    "id": "gib14WPpxRYR"
   },
   "outputs": [],
   "source": [
    "# Making positive and negative folders in both train and test folders\n",
    "train_positive_dir = os.path.join(train_dir, 'positive')\n",
    "os.mkdir(train_positive_dir)\n",
    "\n",
    "train_negative_dir = os.path.join(train_dir, 'negative')\n",
    "os.mkdir(train_negative_dir)\n",
    "\n",
    "test_positive_dir = os.path.join(test_dir, 'positive')\n",
    "os.mkdir(test_positive_dir)\n",
    "\n",
    "test_negative_dir = os.path.join(test_dir, 'negative')\n",
    "os.mkdir(test_negative_dir)"
   ]
  },
  {
   "cell_type": "code",
   "execution_count": 7,
   "metadata": {
    "id": "35T67-gzyP27"
   },
   "outputs": [],
   "source": [
    "# Renaming the picture name through loop so that we can easily access them\n",
    "\n",
    "# Renaming the positive picture names\n",
    "pos_path = os.chdir('/content/drive/MyDrive/Data Sets/Lungs_dataset/positive')\n",
    "i = 1\n",
    "for filename in os.listdir(pos_path):\n",
    "    new_name = f'positive{i}.jpeg'\n",
    "    os.rename(filename, new_name)\n",
    "    i+=1\n",
    "\n",
    "# Renaming the negative picture names\n",
    "neg_path = os.chdir('/content/drive/MyDrive/Data Sets/Lungs_dataset/nagative')\n",
    "i = 1\n",
    "for filename in os.listdir(neg_path):\n",
    "    new_name = f'negative{i}.jpeg'\n",
    "    os.rename(filename, new_name)\n",
    "    i+=1"
   ]
  },
  {
   "cell_type": "code",
   "execution_count": 9,
   "metadata": {
    "id": "UbNOxFKyylBg"
   },
   "outputs": [],
   "source": [
    "# Copying the first 176 pictures(75%) from postive folders and taking them to postive folder in training one.\n",
    "fnames = [f'positive{i}.jpeg' for i in range(1,176)]\n",
    "for fname in fnames:\n",
    "    src = os.path.join('/content/drive/MyDrive/Data Sets/Lungs_dataset/positive', fname)\n",
    "    dst = os.path.join(train_positive_dir, fname)\n",
    "    shutil.copyfile(src, dst)\n",
    "\n"
   ]
  },
  {
   "cell_type": "code",
   "execution_count": 11,
   "metadata": {
    "id": "3KEw4uom2yGP"
   },
   "outputs": [],
   "source": [
    "# Copying the first 125 pictures(75%) from negative folders and taking them to negative folder in training one.\n",
    "fnames = [f'negative{i}.jpeg' for i in range(1,226)]\n",
    "for fname in fnames:\n",
    "    src = os.path.join('/content/drive/MyDrive/Data Sets/Lungs_dataset/nagative', fname)\n",
    "    dst = os.path.join(train_negative_dir, fname)\n",
    "    shutil.copyfile(src, dst)"
   ]
  },
  {
   "cell_type": "code",
   "execution_count": 13,
   "metadata": {
    "id": "4owF8URT6f4U"
   },
   "outputs": [],
   "source": [
    "# Copying the last 59 pictures(25%) from positive folder and taking them to positive folder in testing one.\n",
    "fnames = [f'positive{i}.jpeg' for i in range(176,235)]\n",
    "for fname in fnames:\n",
    "    src = os.path.join('/content/drive/MyDrive/Data Sets/Lungs_dataset/positive', fname)\n",
    "    dst = os.path.join(test_positive_dir, fname)\n",
    "    shutil.copyfile(src, dst)\n",
    "\n",
    "# Copying the last 75 negative (25%) from negative folder and taking them to negative folder in testing one.\n",
    "fnames = [f'negative{i}.jpeg' for i in range(226,301)]\n",
    "for fname in fnames:\n",
    "    src = os.path.join('/content/drive/MyDrive/Data Sets/Lungs_dataset/nagative', fname)\n",
    "    dst = os.path.join(test_negative_dir, fname)\n",
    "    shutil.copyfile(src, dst)"
   ]
  },
  {
   "cell_type": "code",
   "execution_count": 14,
   "metadata": {
    "id": "1fD0v7Zb7T6S"
   },
   "outputs": [],
   "source": [
    "# Creating the model architecture\n",
    "from keras import layers\n",
    "from keras import models\n",
    "model = models.Sequential()\n",
    "model.add(layers.Conv2D(32, (3, 3), activation='relu',\n",
    "input_shape=(150, 150, 3)))\n",
    "model.add(layers.MaxPooling2D((2, 2)))\n",
    "\n",
    "model.add(layers.Conv2D(64, (3, 3), activation='relu'))\n",
    "model.add(layers.MaxPooling2D((2, 2)))\n",
    "\n",
    "model.add(layers.Conv2D(128, (3, 3), activation='relu'))\n",
    "model.add(layers.MaxPooling2D((2, 2)))\n",
    "\n",
    "model.add(layers.Conv2D(128, (3, 3), activation='relu'))\n",
    "model.add(layers.MaxPooling2D((2, 2)))\n",
    "\n",
    "model.add(layers.Flatten())\n",
    "model.add(layers.Dense(512, activation='relu'))\n",
    "model.add(layers.Dense(1, activation='sigmoid'))"
   ]
  },
  {
   "cell_type": "code",
   "execution_count": 15,
   "metadata": {
    "colab": {
     "base_uri": "https://localhost:8080/"
    },
    "id": "GI71ToWX7vmv",
    "outputId": "47f6afb1-6519-4ac1-c78b-61ba443c5fa5"
   },
   "outputs": [
    {
     "name": "stderr",
     "output_type": "stream",
     "text": [
      "/usr/local/lib/python3.10/dist-packages/keras/optimizers/legacy/rmsprop.py:143: UserWarning: The `lr` argument is deprecated, use `learning_rate` instead.\n",
      "  super().__init__(name, **kwargs)\n"
     ]
    }
   ],
   "source": [
    "# Model compilation\n",
    "from keras import optimizers\n",
    "model.compile(loss='binary_crossentropy',optimizer=optimizers.RMSprop(lr=1e-4),metrics=['acc'])"
   ]
  },
  {
   "cell_type": "code",
   "execution_count": 16,
   "metadata": {
    "id": "Au_7Ohy97yex"
   },
   "outputs": [],
   "source": [
    "# Rescaling\n",
    "from keras.preprocessing.image import ImageDataGenerator\n",
    "\n",
    "train_datagen = ImageDataGenerator(rescale=1./255)\n",
    "test_datagen = ImageDataGenerator(rescale=1./255)"
   ]
  },
  {
   "cell_type": "code",
   "execution_count": 17,
   "metadata": {
    "colab": {
     "base_uri": "https://localhost:8080/"
    },
    "id": "SUGjlbg071Gq",
    "outputId": "3d1fea62-3e51-4044-efc7-fba0b959cafb"
   },
   "outputs": [
    {
     "name": "stdout",
     "output_type": "stream",
     "text": [
      "Found 400 images belonging to 2 classes.\n",
      "Found 134 images belonging to 2 classes.\n"
     ]
    }
   ],
   "source": [
    "train_generator = train_datagen.flow_from_directory(\n",
    "    train_dir,\n",
    "    target_size=(150, 150),\n",
    "    batch_size=20,\n",
    "    class_mode='binary')\n",
    "\n",
    "test_generator = test_datagen.flow_from_directory(\n",
    "    test_dir,\n",
    "    target_size=(150, 150),\n",
    "    batch_size=20,\n",
    "    class_mode='binary')"
   ]
  },
  {
   "cell_type": "code",
   "execution_count": 18,
   "metadata": {
    "colab": {
     "base_uri": "https://localhost:8080/"
    },
    "id": "2WQIGVN479VN",
    "outputId": "21721ff7-54d9-4ade-a293-39b29bfd5e92"
   },
   "outputs": [
    {
     "name": "stderr",
     "output_type": "stream",
     "text": [
      "<ipython-input-18-838dab8262bc>:1: UserWarning: `Model.fit_generator` is deprecated and will be removed in a future version. Please use `Model.fit`, which supports generators.\n",
      "  history = model.fit_generator(train_generator, epochs=7,)\n"
     ]
    },
    {
     "name": "stdout",
     "output_type": "stream",
     "text": [
      "Epoch 1/7\n",
      "20/20 [==============================] - 31s 1s/step - loss: 0.6917 - acc: 0.5475\n",
      "Epoch 2/7\n",
      "20/20 [==============================] - 29s 1s/step - loss: 0.6394 - acc: 0.6650\n",
      "Epoch 3/7\n",
      "20/20 [==============================] - 26s 1s/step - loss: 0.5354 - acc: 0.7550\n",
      "Epoch 4/7\n",
      "20/20 [==============================] - 26s 1s/step - loss: 0.4470 - acc: 0.8000\n",
      "Epoch 5/7\n",
      "20/20 [==============================] - 28s 1s/step - loss: 0.4004 - acc: 0.8350\n",
      "Epoch 6/7\n",
      "20/20 [==============================] - 28s 1s/step - loss: 0.3481 - acc: 0.8600\n",
      "Epoch 7/7\n",
      "20/20 [==============================] - 32s 2s/step - loss: 0.3195 - acc: 0.8725\n"
     ]
    }
   ],
   "source": [
    "history = model.fit_generator(train_generator, epochs=7,)"
   ]
  },
  {
   "cell_type": "code",
   "execution_count": 39,
   "metadata": {
    "colab": {
     "base_uri": "https://localhost:8080/"
    },
    "id": "FXubgNuU8q33",
    "outputId": "553c4d45-3612-4d07-f21e-82aedb13f28f"
   },
   "outputs": [
    {
     "name": "stderr",
     "output_type": "stream",
     "text": [
      "<ipython-input-39-4b256800cb2d>:2: UserWarning: `Model.predict_generator` is deprecated and will be removed in a future version. Please use `Model.predict`, which supports generators.\n",
      "  y_pred = model.predict_generator(test_generator)\n"
     ]
    }
   ],
   "source": [
    "# Test data prediction\n",
    "y_pred = model.predict_generator(test_generator)"
   ]
  },
  {
   "cell_type": "code",
   "execution_count": 42,
   "metadata": {
    "id": "omH1AcowE4zc"
   },
   "outputs": [],
   "source": [
    "import numpy as np\n",
    "y_pred = np.argmax(y_pred, axis=1)"
   ]
  },
  {
   "cell_type": "code",
   "execution_count": 25,
   "metadata": {
    "id": "ercnnap3GDo_"
   },
   "outputs": [],
   "source": [
    "# Confusion matrix and classificatino report\n",
    "from sklearn.metrics import classification_report, confusion_matrix"
   ]
  },
  {
   "cell_type": "code",
   "execution_count": 43,
   "metadata": {
    "id": "SZkdOn_nGjx2"
   },
   "outputs": [],
   "source": [
    "cf = confusion_matrix(test_generator.classes, y_pred)"
   ]
  },
  {
   "cell_type": "code",
   "execution_count": 44,
   "metadata": {
    "colab": {
     "base_uri": "https://localhost:8080/",
     "height": 448
    },
    "id": "Q0bgl8eiKY9V",
    "outputId": "0fbed572-7c31-4a1b-fa2d-55c2cb21e14c"
   },
   "outputs": [
    {
     "data": {
      "text/plain": [
       "<Axes: >"
      ]
     },
     "execution_count": 44,
     "metadata": {},
     "output_type": "execute_result"
    },
    {
     "data": {
      "image/png": "[encoded data removed]",
      "text/plain": [
       "<Figure size 640x480 with 2 Axes>"
      ]
     },
     "metadata": {},
     "output_type": "display_data"
    }
   ],
   "source": [
    "import seaborn as sns\n",
    "sns.heatmap(cf, fmt ='g', annot= True)"
   ]
  },
  {
   "cell_type": "code",
   "execution_count": 46,
   "metadata": {
    "colab": {
     "base_uri": "https://localhost:8080/"
    },
    "id": "3H3GMqh3KxMI",
    "outputId": "98bc3395-6eb0-47a9-ab59-884b1441d1b7"
   },
   "outputs": [
    {
     "name": "stderr",
     "output_type": "stream",
     "text": [
      "/usr/local/lib/python3.10/dist-packages/sklearn/metrics/_classification.py:1344: UndefinedMetricWarning: Precision and F-score are ill-defined and being set to 0.0 in labels with no predicted samples. Use `zero_division` parameter to control this behavior.\n",
      "  _warn_prf(average, modifier, msg_start, len(result))\n",
      "/usr/local/lib/python3.10/dist-packages/sklearn/metrics/_classification.py:1344: UndefinedMetricWarning: Precision and F-score are ill-defined and being set to 0.0 in labels with no predicted samples. Use `zero_division` parameter to control this behavior.\n",
      "  _warn_prf(average, modifier, msg_start, len(result))\n",
      "/usr/local/lib/python3.10/dist-packages/sklearn/metrics/_classification.py:1344: UndefinedMetricWarning: Precision and F-score are ill-defined and being set to 0.0 in labels with no predicted samples. Use `zero_division` parameter to control this behavior.\n",
      "  _warn_prf(average, modifier, msg_start, len(result))\n"
     ]
    }
   ],
   "source": [
    "CR = classification_report(test_generator.classes, y_pred)"
   ]
  },
  {
   "cell_type": "code",
   "execution_count": 49,
   "metadata": {
    "colab": {
     "base_uri": "https://localhost:8080/"
    },
    "id": "Ll0n-qCbNNMa",
    "outputId": "8b846a59-ec86-476d-d31e-7238ad8699da"
   },
   "outputs": [
    {
     "name": "stdout",
     "output_type": "stream",
     "text": [
      "              precision    recall  f1-score   support\n",
      "\n",
      "           0       0.56      1.00      0.72        75\n",
      "           1       0.00      0.00      0.00        59\n",
      "\n",
      "    accuracy                           0.56       134\n",
      "   macro avg       0.28      0.50      0.36       134\n",
      "weighted avg       0.31      0.56      0.40       134\n",
      "\n"
     ]
    }
   ],
   "source": [
    "print(CR)"
   ]
  },
  {
   "cell_type": "code",
   "execution_count": null,
   "metadata": {
    "id": "JVSnoYzoNSD8"
   },
   "outputs": [],
   "source": []
  }
 ],
 "metadata": {
  "colab": {
   "provenance": []
  },
  "kernelspec": {
   "display_name": "Python 3 (ipykernel)",
   "language": "python",
   "name": "python3"
  },
  "language_info": {
   "codemirror_mode": {
    "name": "ipython",
    "version": 3
   },
   "file_extension": ".py",
   "mimetype": "text/x-python",
   "name": "python",
   "nbconvert_exporter": "python",
   "pygments_lexer": "ipython3",
   "version": "3.11.3"
  }
 },
 "nbformat": 4,
 "nbformat_minor": 1
}
